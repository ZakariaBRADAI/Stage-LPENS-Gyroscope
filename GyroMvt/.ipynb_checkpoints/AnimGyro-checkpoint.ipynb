{
 "cells": [
  {
   "cell_type": "code",
   "execution_count": 1,
   "id": "e5714d96-588d-4105-af4d-b6e19dad5659",
   "metadata": {},
   "outputs": [
    {
     "name": "stdout",
     "output_type": "stream",
     "text": [
      "Detected IPython. Loading juliacall extension. See https://juliapy.github.io/PythonCall.jl/stable/compat/#IPython\n"
     ]
    },
    {
     "name": "stderr",
     "output_type": "stream",
     "text": [
      "  Activating project at `~/.julia/environments/diffeqpy`\n",
      "  Activating project at `~/.julia/environments/diffeqpy`\n"
     ]
    }
   ],
   "source": [
    "from GyroSolver import *\n",
    "from GyroPhysicalQTE import *\n",
    "import numpy as np\n",
    "import matplotlib.pyplot as plt"
   ]
  },
  {
   "cell_type": "code",
   "execution_count": null,
   "id": "68c0cc3f-4ca4-44c7-8213-eff8f1eb8915",
   "metadata": {},
   "outputs": [],
   "source": [
    "g = 9.81           # m/s^2\n",
    "m = 0.375          # kg\n",
    "J3 = 0.000055      # kg.m^2\n",
    "J1 = 0.000055      # kg.m^2\n",
    "h = 31.25 * 1e-3   # m\n",
    "x0 =  0.1          # m\n",
    "f_exc = 1.663      # Hertz\n",
    "Phi = np.pi\n",
    "\n",
    "params = [g, m, h, J1, J3 , x0, Phi, f_exc]\n",
    "CI = [np.pi / 6, 0, 0, 0, 0, 2 * np.pi * 200]\n",
    "\n",
    "tspan = (0., 1000.)\n",
    "\n",
    "t, the, the_d, phi, phi_d, psi, psi_d = Gyro_Solver(tspan, CI, params, forcing='Free', precision='LOW')\n",
    "\n",
    "\n",
    "p_the, p_phi, p_psi = Conjugated_Momentums(the, phi, psi, the_d, phi_d, psi_d, params)\n",
    "\n",
    "Plot_Gyro_Angles(t, the, phi, psi)\n",
    "\n",
    "Plot_Gyro_Speed_Angles(t, the_d, phi_d, psi_d)\n",
    "\n",
    "Plot_Gyro_Momentum(t, p_the, p_phi, p_psi)\n",
    "\n"
   ]
  },
  {
   "cell_type": "code",
   "execution_count": null,
   "id": "3e56dd25-1445-4d32-99bb-e1d326887623",
   "metadata": {},
   "outputs": [],
   "source": [
    "import plotly.graph_objects as go\n",
    "from IPython.display import HTML\n",
    "import matplotlib.animation as animation\n",
    "from matplotlib.animation import PillowWriter\n",
    "from matplotlib.patches import FancyArrowPatch\n",
    "from mpl_toolkits.mplot3d import Axes3D\n",
    "from mpl_toolkits.mplot3d import proj3d\n",
    "from matplotlib.animation import FuncAnimation, PillowWriter\n",
    "from mpl_toolkits.mplot3d.proj3d import proj_transform\n"
   ]
  },
  {
   "cell_type": "code",
   "execution_count": null,
   "id": "5bb41aff-4b7d-4422-a91a-8d1ffeed131e",
   "metadata": {},
   "outputs": [],
   "source": [
    "X, Y, Z = Gyro_Bloch(the, phi, psi)\n",
    "\n",
    "len(the)"
   ]
  },
  {
   "cell_type": "code",
   "execution_count": null,
   "id": "dc42be1c-e944-468a-9759-b375063271bd",
   "metadata": {},
   "outputs": [],
   "source": [
    "import numpy as np\n",
    "import matplotlib.pyplot as plt\n",
    "from mpl_toolkits.mplot3d import Axes3D\n",
    "from matplotlib.animation import FuncAnimation\n",
    "\n",
    "T = t\n",
    "X, Y, Z = Gyro_Bloch(the, phi, psi)\n",
    "\n",
    "fig = plt.figure()\n",
    "ax = fig.add_subplot(111, projection='3d')\n",
    "\n",
    "\n",
    "#fig, ax = plt.subplots(subplot_kw=dict(projection=\"3d\"))\n",
    "\n",
    "\n",
    "point_static, = ax.plot(0, 0, 0, 'k.')\n",
    "line, = ax.plot(X[:1], Y[:1], Z[:1], color='b', linestyle ='--', alpha = 0.5)\n",
    "\n",
    "\n",
    "def update_gyro(i):\n",
    "    return 0,0,0,X[i],Y[i],Z[i]\n",
    "\n",
    "quiver = ax.quiver(*update_gyro(0), linewidth = 2, color = 'b', norm='linear')\n",
    "\n",
    "ax.set_xlim(-1.2, 1.2)\n",
    "ax.set_ylim(-1.2, 1.2)\n",
    "ax.set_zlim(-1.2, 1.2)\n",
    "\n",
    "def update(num, X, Y, Z, line, point_static):\n",
    "    global quiver\n",
    "    quiver.remove()\n",
    "    quiver = ax.quiver(*update_gyro(num), linewidth = 2, color='b', norm='linear')\n",
    "    line.set_data(X[:num], Y[:num])\n",
    "    line.set_3d_properties(Z[:num])\n",
    "\n",
    "\n",
    "frame_rate = 50\n",
    "num_frames = len(T)\n",
    "interval = 1000 / frame_rate\n",
    "\n",
    "\n",
    "\n",
    "ani = FuncAnimation(fig, update, frames=num_frames, interval=interval,\n",
    "                    fargs=(X, Y, Z, line, point_static), blit=False)\n",
    "\n",
    "ani.save('Animations/WORK.gif', writer=PillowWriter(fps=frame_rate))\n",
    "\n",
    "plt.show()"
   ]
  },
  {
   "cell_type": "code",
   "execution_count": null,
   "id": "a39e24ab-0bde-488d-a0f1-4b7717c3bb39",
   "metadata": {},
   "outputs": [],
   "source": [
    "import numpy as np\n",
    "import matplotlib.pyplot as plt\n",
    "from mpl_toolkits.mplot3d import Axes3D\n",
    "from matplotlib.animation import FuncAnimation\n",
    "\n",
    "T = t\n",
    "X, Y, Z = Gyro_Bloch(the, phi, psi)\n",
    "\n",
    "fig = plt.figure()\n",
    "ax = fig.add_subplot(111, projection='3d')\n",
    "\n",
    "#fig, ax = plt.subplots(subplot_kw=dict(projection=\"3d\"))\n",
    "\n",
    "\n",
    "point_static, = ax.plot(0, 0, 0, 'b.')\n",
    "line, = ax.plot(X[:1], Y[:1], Z[:1], color='b', linestyle ='--', alpha = 0.5)\n",
    "\n",
    "\n",
    "def update_gyro(i):\n",
    "    return 0,0,0,X[i],Y[i],Z[i]\n",
    "\n",
    "quiver = ax.quiver(*update_gyro(0), linewidth = 2.5, color = 'b', arrow_length_ratio = 0.2)\n",
    "\n",
    "ax.set_xlim(-1.2, 1.2)\n",
    "ax.set_ylim(-1.2, 1.2)\n",
    "ax.set_zlim(-1.2, 1.2)\n",
    "\n",
    "def update(num, X, Y, Z, line):\n",
    "    global quiver\n",
    "    quiver.remove()\n",
    "    quiver = ax.quiver(*update_gyro(num), linewidth = 2.5, color='b', arrow_length_ratio = 0.2)\n",
    "    line.set_data(X[:num], Y[:num])\n",
    "    line.set_3d_properties(Z[:num])\n",
    "\n",
    "\n",
    "frame_rate = 50\n",
    "num_frames = len(T)\n",
    "interval = 1000 / frame_rate\n",
    "\n",
    "\n",
    "\n",
    "ani = FuncAnimation(fig, update, frames=num_frames, interval=interval,\n",
    "                    fargs=(X, Y, Z, line), blit=False)\n",
    "\n",
    "ani.save('Animations/WORK222.gif', writer=PillowWriter(fps=frame_rate))\n",
    "\n",
    "plt.show()"
   ]
  },
  {
   "cell_type": "code",
   "execution_count": null,
   "id": "4dcce4f9-f050-4688-8de3-b1fc932cf6ee",
   "metadata": {},
   "outputs": [],
   "source": []
  },
  {
   "cell_type": "code",
   "execution_count": null,
   "id": "85d4bd6e-d919-4b6c-abe7-bef5ec2990cc",
   "metadata": {},
   "outputs": [],
   "source": []
  },
  {
   "cell_type": "code",
   "execution_count": null,
   "id": "f2c1d61c-db9e-4bf9-9da1-abe4673622c0",
   "metadata": {},
   "outputs": [],
   "source": []
  },
  {
   "cell_type": "code",
   "execution_count": null,
   "id": "26f1f172-3bf0-4383-8631-fca043d6134a",
   "metadata": {},
   "outputs": [],
   "source": []
  },
  {
   "cell_type": "code",
   "execution_count": null,
   "id": "3503ca5d-2de5-48e2-9949-8ab3f68e85a2",
   "metadata": {},
   "outputs": [],
   "source": []
  },
  {
   "cell_type": "code",
   "execution_count": null,
   "id": "f1c15e89-8a21-405e-9eb1-db3f4ccb89cf",
   "metadata": {},
   "outputs": [],
   "source": []
  },
  {
   "cell_type": "code",
   "execution_count": null,
   "id": "f673dccb-f6c6-4f27-9637-7e371ab1ccba",
   "metadata": {},
   "outputs": [],
   "source": []
  }
 ],
 "metadata": {
  "kernelspec": {
   "display_name": "Python 3 (ipykernel)",
   "language": "python",
   "name": "python3"
  },
  "language_info": {
   "codemirror_mode": {
    "name": "ipython",
    "version": 3
   },
   "file_extension": ".py",
   "mimetype": "text/x-python",
   "name": "python",
   "nbconvert_exporter": "python",
   "pygments_lexer": "ipython3",
   "version": "3.11.5"
  }
 },
 "nbformat": 4,
 "nbformat_minor": 5
}
